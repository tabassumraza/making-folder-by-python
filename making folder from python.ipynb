{
 "cells": [
  {
   "cell_type": "code",
   "execution_count": null,
   "id": "7ef0440b",
   "metadata": {},
   "outputs": [],
   "source": [
    "os.getcwd()\n",
    "os.chdir(\"C://\")\n",
    "os.getcwd()\n",
    "os.listdir()\n",
    "os.makedirs(\"H/A/S\")\n",
    "os.removedirs(\"ab\")\n",
    "\n",
    "Create folder with name OOPs -------> Crete 6 folder with the name of OOps Features of list \n",
    "Using loops and statement condation that is if features folder is exists so print folder is already exist.\n",
    "note: use os liberay\n",
    "import os\n",
    "\n",
    "main_folder = \"OOPs\"\n",
    "feature_names = [\"Inheritance\", \"Polymorphism\", \"Encapsulation\", \"Abstraction\", \"Class\", \"Object\"]\n",
    "\n",
    "if not os.path.exists(main_folder):\n",
    "    os.mkdir(main_folder)\n",
    "    print(\"Main folder 'OOPs' created.\")\n",
    "\n",
    "for feature in feature_names:\n",
    "    feature_folder = os.path.join(main_folder, feature)\n",
    "    if os.path.exists(feature_folder):\n",
    "        print(f\"Folder '{feature}' already exists.\")\n",
    "    else:\n",
    "        os.mkdir(feature_folder)\n",
    "        print(f\"Folder '{feature}' created.\")\n"
   ]
  }
 ],
 "metadata": {
  "kernelspec": {
   "display_name": "Python 3 (ipykernel)",
   "language": "python",
   "name": "python3"
  },
  "language_info": {
   "codemirror_mode": {
    "name": "ipython",
    "version": 3
   },
   "file_extension": ".py",
   "mimetype": "text/x-python",
   "name": "python",
   "nbconvert_exporter": "python",
   "pygments_lexer": "ipython3",
   "version": "3.9.12"
  }
 },
 "nbformat": 4,
 "nbformat_minor": 5
}
